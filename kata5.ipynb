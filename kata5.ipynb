{
 "cells": [
  {
   "cell_type": "markdown",
   "metadata": {},
   "source": [
    "# Ejercicio 1 - Utilizar operadores aritméticos"
   ]
  },
  {
   "cell_type": "code",
   "execution_count": 2,
   "metadata": {},
   "outputs": [],
   "source": [
    "# Crear variables para almacenar las dos distancias\n",
    "# ¡Asegúrate de quitar las comas!\n",
    "Dist_Tierra= 149597870\n",
    "Dist_Jupiter= 778547200"
   ]
  },
  {
   "cell_type": "code",
   "execution_count": 3,
   "metadata": {},
   "outputs": [
    {
     "name": "stdout",
     "output_type": "stream",
     "text": [
      "628949330\n",
      "390577534\n"
     ]
    }
   ],
   "source": [
    "# Calcular la distancia entre planetas\n",
    "Resta=  abs(Dist_Tierra-Dist_Jupiter)\n",
    "Millas= Resta*0.621\n",
    "print(Resta)\n",
    "print(round(Millas))"
   ]
  },
  {
   "cell_type": "markdown",
   "metadata": {},
   "source": [
    "# Ejercicio 2: convierte cadenas en números y usa valores absolutos"
   ]
  },
  {
   "cell_type": "code",
   "execution_count": 5,
   "metadata": {},
   "outputs": [],
   "source": [
    "# Usando input, agrega el código para leer la distancia del sol\n",
    "# para cada planeta, considerando 2 planetas.\n",
    "# Almacenar las entradas del usuario\n",
    "# Pista: variable = input(\"¿Cuál es tu nombre?\")\n",
    "captura=input(\"¿Captura la distancia del sol para cada planeta?\")\n",
    "# 50000\n",
    "captura2=input(\"¿Captura la distancia del sol para cada planeta?\")\n",
    "# 1200000"
   ]
  },
  {
   "cell_type": "code",
   "execution_count": 6,
   "metadata": {},
   "outputs": [],
   "source": [
    "# Convierte las cadenas de ambos planetas a números enteros\n",
    "captura=(int(captura))\n",
    "captura2=(int(captura2))"
   ]
  },
  {
   "cell_type": "code",
   "execution_count": 7,
   "metadata": {},
   "outputs": [
    {
     "name": "stdout",
     "output_type": "stream",
     "text": [
      "1150000\n",
      "714150.0\n"
     ]
    }
   ],
   "source": [
    "# Realizar el cálculo y determinar el valor absoluto\n",
    "result= abs((captura-captura2))\n",
    "print(result)\n",
    "# Convertir de KM a Millas\n",
    "conversion= result * 0.621\n",
    "print(conversion)"
   ]
  }
 ],
 "metadata": {
  "interpreter": {
   "hash": "5659769e0819e7e2df2aef46de7f8fdbe68b42f5c6eb9df30983f84e76f0ba9c"
  },
  "kernelspec": {
   "display_name": "Python 3.9.10 64-bit (windows store)",
   "language": "python",
   "name": "python3"
  },
  "language_info": {
   "codemirror_mode": {
    "name": "ipython",
    "version": 3
   },
   "file_extension": ".py",
   "mimetype": "text/x-python",
   "name": "python",
   "nbconvert_exporter": "python",
   "pygments_lexer": "ipython3",
   "version": "3.8.3"
  },
  "orig_nbformat": 4
 },
 "nbformat": 4,
 "nbformat_minor": 2
}
